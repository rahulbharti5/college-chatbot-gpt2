{
 "cells": [
  {
   "cell_type": "code",
   "execution_count": 3,
   "metadata": {},
   "outputs": [],
   "source": [
    "from data import DialoguesDataset\n",
    "import yaml"
   ]
  },
  {
   "cell_type": "code",
   "execution_count": 2,
   "metadata": {},
   "outputs": [],
   "source": [
    "import pickle\n",
    "\n",
    "data = pickle.load(open('../dataset/train_dialogues.pickle', 'rb'))"
   ]
  },
  {
   "cell_type": "code",
   "execution_count": 4,
   "metadata": {},
   "outputs": [
    {
     "data": {
      "text/plain": [
       "[['Say, Jim, How about going for a few beers after dinner?',\n",
       "  'You know that is tempting but is really not good for our fitness.',\n",
       "  'What do you mean? It will help us to relax.',\n",
       "  \"Do you really think so? I don't. It will just make us fat and act silly. Remember last time?\",\n",
       "  \"I guess you are right. But what shall we do? I don't feel like sitting at home.\",\n",
       "  'I suggest a walk over to the gym where we can play singsong and meet some of our friends.',\n",
       "  \"That's a good idea. I hear Mary and Sally often go there to play pingpong. Perhaps we can make a foursome with them.\",\n",
       "  'Sounds great to me! If they are willing, We could ask them to go dancing with us. That is excellent exercise and fun, Too.',\n",
       "  \"Good. Let's go now.\",\n",
       "  'All right.'],\n",
       " ['Can you do push-ups?',\n",
       "  \"Of course I can. It's a piece of cake! Believe it or not, I can do 30 push-ups a minute.\",\n",
       "  \"Really? I think that's impossible!\",\n",
       "  'You mean 30 push-ups?',\n",
       "  'Yeah!',\n",
       "  \"It's easy. If you do exercise everyday, You can make it, Too.\"]]"
      ]
     },
     "execution_count": 4,
     "metadata": {},
     "output_type": "execute_result"
    }
   ],
   "source": [
    "data[0:2]"
   ]
  },
  {
   "cell_type": "code",
   "execution_count": 4,
   "metadata": {},
   "outputs": [],
   "source": [
    "import yaml\n",
    "args = yaml.safe_load(open('config.yml'))\n",
    "from transformers import GPT2Tokenizer\n",
    "\n",
    "def load_tokenizer(args):\n",
    "    tokenizer = GPT2Tokenizer.from_pretrained(args['model_name'])\n",
    "    special_tokens = ['<speaker1>', '<speaker2>']\n",
    "    tokenizer.add_special_tokens({\n",
    "        'bos_token': '<bos>',\n",
    "        'additional_special_tokens': special_tokens\n",
    "    })\n",
    "\n",
    "    # add new token ids to args\n",
    "    special_tokens += ['<bos>', '<eos>']\n",
    "    sp1_id, sp2_id, bos_id, eos_id = tokenizer.encode(special_tokens)\n",
    "    args['sp1_id'] = sp1_id\n",
    "    args['sp2_id'] = sp2_id\n",
    "    args['bos_id'] = bos_id\n",
    "    args['eos_id'] = eos_id\n",
    "\n",
    "    return tokenizer"
   ]
  },
  {
   "cell_type": "code",
   "execution_count": 5,
   "metadata": {},
   "outputs": [
    {
     "name": "stderr",
     "output_type": "stream",
     "text": [
      "c:\\Users\\rk225\\Documents\\DeepLearning\\.env\\Lib\\site-packages\\transformers\\tokenization_utils_base.py:1601: FutureWarning: `clean_up_tokenization_spaces` was not set. It will be set to `True` by default. This behavior will be depracted in transformers v4.45, and will be then set to `False` by default. For more details check this issue: https://github.com/huggingface/transformers/issues/31884\n",
      "  warnings.warn(\n"
     ]
    }
   ],
   "source": [
    "tokenizer = load_tokenizer(args)"
   ]
  },
  {
   "cell_type": "code",
   "execution_count": 1,
   "metadata": {},
   "outputs": [],
   "source": [
    "from processing import Processing"
   ]
  },
  {
   "cell_type": "code",
   "execution_count": 8,
   "metadata": {},
   "outputs": [],
   "source": [
    "process = Processing(tokenizer,0.85)"
   ]
  },
  {
   "cell_type": "code",
   "execution_count": 9,
   "metadata": {},
   "outputs": [
    {
     "data": {
      "application/vnd.jupyter.widget-view+json": {
       "model_id": "310eb556374a41308afb01dd0acecfed",
       "version_major": 2,
       "version_minor": 0
      },
      "text/plain": [
       "  0%|          | 0/32 [00:00<?, ?it/s]"
      ]
     },
     "metadata": {},
     "output_type": "display_data"
    }
   ],
   "source": [
    "train,test = process._load_college()"
   ]
  },
  {
   "cell_type": "code",
   "execution_count": 10,
   "metadata": {},
   "outputs": [
    {
     "data": {
      "text/plain": [
       "[['When was Rajkiya Engineering College (R. E. C.) Ambedkar Nagar established?',\n",
       "  'Rajkiya Engineering College (R. E. C.) Ambedkar Nagar was established in 2010 by the Government of Uttar Pradesh under a special component plan.',\n",
       "  'What were the initial branches offered by the college?',\n",
       "  'The college initially offered B. Tech. Programs in three branches: Information Technology (IT), Electrical Engineering (EE), And Civil Engineering (CE), With an intake of 60 students in each branch.',\n",
       "  'How long did it take for the college to shift to its own campus?',\n",
       "  'The college initially operated from the campus of Kamla Nehru Institute of Technology (K. N. I.T) in Sultanpur. It shifted to its own campus in Ambedkar Nagar in August 2012, About two years after its establishment.'],\n",
       " ['What is the budget allocated for the construction of the college?',\n",
       "  'The college construction started in October 2010 with an allocated budget of 6213. 81 Lakh.',\n",
       "  'Who served as the Principal of Rajkiya Engineering College (R. E. C.) Ambedkar Nagar before January 2015?',\n",
       "  'The Director of K. N. I.T Sultanpur served as the Principal of Rajkiya Engineering College (R. E. C.) Ambedkar Nagar until January 14, 2015.']]"
      ]
     },
     "execution_count": 10,
     "metadata": {},
     "output_type": "execute_result"
    }
   ],
   "source": [
    "train[0:2]"
   ]
  },
  {
   "cell_type": "code",
   "execution_count": 11,
   "metadata": {},
   "outputs": [
    {
     "data": {
      "application/vnd.jupyter.widget-view+json": {
       "model_id": "a624eeddd7ed46ff8977ca4df75c75cb",
       "version_major": 2,
       "version_minor": 0
      },
      "text/plain": [
       "  0%|          | 0/13118 [00:00<?, ?it/s]"
      ]
     },
     "metadata": {},
     "output_type": "display_data"
    }
   ],
   "source": [
    "train,test = process._load_daily()"
   ]
  },
  {
   "cell_type": "code",
   "execution_count": 14,
   "metadata": {},
   "outputs": [
    {
     "data": {
      "text/plain": [
       "(11150, 1968)"
      ]
     },
     "execution_count": 14,
     "metadata": {},
     "output_type": "execute_result"
    }
   ],
   "source": [
    "len(train),len(test)"
   ]
  },
  {
   "cell_type": "code",
   "execution_count": 17,
   "metadata": {},
   "outputs": [
    {
     "data": {
      "text/plain": [
       "'usted'"
      ]
     },
     "execution_count": 17,
     "metadata": {},
     "output_type": "execute_result"
    }
   ],
   "source": [
    "tokenizer.decode([8459])"
   ]
  },
  {
   "cell_type": "code",
   "execution_count": 2,
   "metadata": {},
   "outputs": [],
   "source": [
    "import pickle"
   ]
  },
  {
   "cell_type": "code",
   "execution_count": 7,
   "metadata": {},
   "outputs": [
    {
     "data": {
      "text/plain": [
       "[['When was Rajkiya Engineering College (R. E. C.) Ambedkar Nagar established?',\n",
       "  'Rajkiya Engineering College (R. E. C.) Ambedkar Nagar was established in 2010 by the Government of Uttar Pradesh under a special component plan.',\n",
       "  'What were the initial branches offered by the college?',\n",
       "  'The college initially offered B. Tech. Programs in three branches: Information Technology (IT), Electrical Engineering (EE), And Civil Engineering (CE), With an intake of 60 students in each branch.',\n",
       "  'How long did it take for the college to shift to its own campus?',\n",
       "  'The college initially operated from the campus of Kamla Nehru Institute of Technology (K. N. I.T) in Sultanpur. It shifted to its own campus in Ambedkar Nagar in August 2012, About two years after its establishment.'],\n",
       " ['What is the budget allocated for the construction of the college?',\n",
       "  'The college construction started in October 2010 with an allocated budget of 6213. 81 Lakh.',\n",
       "  'Who served as the Principal of Rajkiya Engineering College (R. E. C.) Ambedkar Nagar before January 2015?',\n",
       "  'The Director of K. N. I.T Sultanpur served as the Principal of Rajkiya Engineering College (R. E. C.) Ambedkar Nagar until January 14, 2015.'],\n",
       " ['Is Rajkiya Engineering College (R. E. C.) Ambedkar Nagar affiliated with any university?',\n",
       "  'Yes, The college is a constituent college of Uttar Pradesh Technical University, Lucknow.',\n",
       "  'Who is the current Director of Rajkiya Engineering College (R. E. C.) Ambedkar Nagar?',\n",
       "  'Professor K.S. Verma is the current Director (Founder) of Rajkiya Engineering College (R. E. C.) Ambedkar Nagar. What are the central Central Facilties.',\n",
       "  \"Canteen, Boy's Hostel, Girl's Hostel, Atm & Banks, Library, Computer Center, Community Hall (Seminar), Play Ground.\",\n",
       "  'How to reach?',\n",
       "  'The Institute is situated 3 Km away from the city(Akbarpur Bus Stand) onTanda road near hawaipatti. It is well connected through road and rail network. The nearest airport is Babatpur(Varanasi) which is about 100 Km far from the Institute.'],\n",
       " ['When was the Department of Information Technology established at Rajkiya Engineering College (R. E. C.) Ambedkar Nagar?',\n",
       "  'The Department of Information Technology was established in 2010, The same year the college was founded.',\n",
       "  'What is the initial intake capacity of the IT department?',\n",
       "  'The department started with an intake of 60 students. There are some other 6 seats for Lateral Entry Students.',\n",
       "  'What are some of the key strengths of the IT department at REC Ambedkar Nagar? The department boasts highly qualified and experienced faculty members with varied specializations. They are actively involved in research and development, Publishing papers and presenting at conferences. The department also provides state-of-the-art computer facilities and focuses on practical learning through real-life projects.'],\n",
       " ['What are the key objectives of the IT (Information Technlogy) department?',\n",
       "  'The IT department aims to become a center of excellence in technical higher education, Research, And support services. Their goal is to contribute significantly to individual and societal empowerment.',\n",
       "  'What is the vision of the IT department?',\n",
       "  'The IT department envisions becoming a center of excellence in information technology, Producing globally competent engineers equipped with strong technical skills and ethical values. They aim to contribute to the betterment of society.'],\n",
       " ['What are the key missions of the IT department?',\n",
       "  \"The IT department's missions are to groom students with leadership and communication skills through real-life project work, Create an environment for engineering knowledge and innovative research.\"],\n",
       " ['Who is the HOD of the Faculty of Information Technology?',\n",
       "  'Dr. Sudhakar Tripathi is the Associate Professor (Regular) & HOD of the Faculty of Information Technology.',\n",
       "  'What are the qualifications of Mr. Shivendu Mishra?',\n",
       "  'Mr. Shivendu Mishra holds a B. Tech andM. Tech degree fromMNNIT Allahabad.',\n",
       "  \"What is Dr. Ramesh Chand Pandey's area of interest?\",\n",
       "  \"Dr. Ramesh Chand Pandey's research interests lie in Image Processing, Video Processing, Pattern Recognition, Machine Learning, And IoT.\",\n",
       "  'Can you list all the faculty members in the Faculty of Information Technology, Along with their email addresses?',\n",
       "  'Sure! Here are the faculty members in the Faculty of Information Technology with their email addresses:\\n\\n- **Dr. Sudhakar Tripathi**: stripathi@recabn. Ac. In\\n- **Mr. Shivendu Mishra**: shivendu@recabn. Ac. In\\n- **Dr. Ramesh Chand Pandey**: rcpandey@recabn. Ac. In\\n- **Mr. Sharad Verma**: sharad@recabn. Ac. In\\n- **Dr. Ashish Kumar Mishra**: akmishra@recabn. Ac. In\\n- **Mr. Shivendra Kumar Pandey**: shivendra@recabn. Ac. In\\n- **Dr. Prince Rajpoot**: princeraj@recabn. Ac. In\\n- **Dr. Amit Kumar**: amitkumar@recabn. Ac. In.'],\n",
       " ['What is the email address of Dr. Ashish Kumar Mishra?',\n",
       "  \"Dr. Ashish Kumar Mishra's email address is akmishra@recabn. Ac. In.\",\n",
       "  'What is the research publication record of Mr. Sharad Verma?',\n",
       "  'Mr. Sharad Verma has published 3 papers in international conferences, With one of them being Scopus indexed.'],\n",
       " [\"What is Dr. Prince Rajpoot's area of interest?\",\n",
       "  \"Dr. Prince Rajpoot's research interests lie in IoT, Ai, Ml, And Optimization in Wireless Sensor Networks using MADM and MODM approaches.\"],\n",
       " ['What are the areas of focus within the Electrical Engineering department at REC Ambedkar Nagar?',\n",
       "  'The department focuses on providing a strong foundation in various areas of electrical engineering, Including communication technology, Control technology, Electronics, And power & energy.',\n",
       "  'What opportunities are available for students to explore specific interests in Electrical Engineering?',\n",
       "  'The department offers elective courses carefully designed to cater to the interests of students, Providing them with exposure to state-of-the-art technologies.',\n",
       "  'What is the initial intake capacity of the EE ( Electrical Engineering ) department?',\n",
       "  'The department started with an intake of 60 students. There are some other 6 seats for Lateral Entry Students.'],\n",
       " ['What are the key objectives of the EE department?',\n",
       "  'The department aims to become a center of excellence in technical higher education, Research, And support services, Contributing to individual and societal empowerment.',\n",
       "  'What is the vision of the EE department?',\n",
       "  'The EE department envisions producing globally competent engineers, Innovators, And entrepreneurs who are instilled with strong human values and professional ethics.'],\n",
       " ['What are the key missions of the EE department?',\n",
       "  \"The EE department's missions are to deliver high-quality education and research in electrical engineering, Provide knowledge base and consultancy services to rural and underprivileged communities for their development, And bridge the gap between industry and academia by aligning curricula and syllabi with industrial and societal needs.\"],\n",
       " ['Who is the head of the Faculty of Electrical Engineering?',\n",
       "  'Dr.S. P. Singh is the Associate Professor (Regular) & Head of the Faculty of Electrical Engineering.',\n",
       "  'What are the qualifications of Dr. Mohammed Aslam Husain?',\n",
       "  'Dr. Mohammed Aslam Husain holds a Ph.D. From AMU, AnM. Tech. From AMU, And a B. Tech. From AMU.',\n",
       "  'Can you list all the faculty members in the Faculty of Electrical Engineering, Along with their email addresses?',\n",
       "  'Here are the faculty members in the Faculty of Electrical Engineering with their email addresses:\\n\\n- **Dr.S. P. Singh**: drspsingh@recabn. Ac. In\\n- **Dr. Mohammed Aslam Husain**: mahusain@recabn. Ac. In\\n- **Mr. Vikas Patel**: vikaspatel@recabn. Ac. In\\n- **Dr. Puneet Joshi**: drpuneetj@recabn. Ac. In\\n- **Dr. Sanjay Agrawal**: sanjay@recabn. Ac. In\\n- **Dr. Yudhishthir Pandey**: yudhishthir@recabn. Ac. In\\n- **Dr. Lokesh Kumar Yadav**: lokeshky@recabn. Ac. In\\n- **Dr. Arif Iqbal**: arif. Iqbal@recabn. Ac. In\\n- **Mr. Sonu Kumar**: sonu@recabn. Ac. In.'],\n",
       " [\"What is Dr. Sanjay Agrawal's area of interest?\",\n",
       "  \"Dr. Sanjay Agrawal's research interests lie in Power System Protection, Health Monitoring, Renewable Energy, And Smart Grid.\",\n",
       "  'What is the email address of Mr. Sonu Kumar?',\n",
       "  \"Mr. Sonu Kumar's email address is sonu@recabn. Ac. In.\"],\n",
       " ['What is the experience of Dr. Yudhishthir Pandey?',\n",
       "  'Dr. Yudhishthir Pandey has 17 years of experience in the field of Electrical Engineering.'],\n",
       " ['What are the research interests of Mr. Vikas Patel?',\n",
       "  \"Mr. Vikas Patel's areas of interest include Power Electronics, Electrical Machines, And Renewable Energy.\"],\n",
       " ['What is the primary focus of the Civil Engineering department at REC Ambedkar Nagar?',\n",
       "  'The Civil Engineering department focuses on the theory and practice of civil engineering, Specifically in the construction of buildings, Structures, Roads, Bridges, Aqueducts, Canals, Ports, Docks, And harbors.',\n",
       "  'What is the initial intake capacity of the CE ( Civil Engineering ) department?',\n",
       "  'The department started with an intake of 60 students. There are some other 6 seats for Lateral Entry Students.',\n",
       "  \"What are the department's goals for its graduates? The Civil Engineering department aims to produce high-quality technical manpower for industries, Research and development organizations, Academic institutions, And ultimately to meet the engineering needs of the nation.\"],\n",
       " ['What are the benefits of the extra-curricular and co-curricular activities encouraged by the Civil Engineering department?',\n",
       "  'These activities help students develop their personality, Nurture teamwork, Enhance organizational skills, And instill strong moral values and a positive work ethic.'],\n",
       " ['What is the vision of the Civil Engineering department?',\n",
       "  'The department envisions providing quality education and skills to meet the challenges in the field of civil engineering and contribute to nation building.',\n",
       "  'What are the key missions of the Civil Engineering department?',\n",
       "  \"The department's missions are to produce globally competitive civil engineering graduates by providing a conducive learning environment, To become a center of excellence in civil engineering and allied research for societal benefit, And to promote quality education through innovation, Research, And consultancy projects for industrial and societal needs.\"],\n",
       " ['Who is the head of the Faculty of Civil Engineering?',\n",
       "  'Mr. Amit Kumar Rai is the Assistant Professor (Regular) & HOD of the Faculty of Civil Engineering.',\n",
       "  'What is the area of interest of Mr. Avaneesh Kumar Yadav?',\n",
       "  \"Mr. Avaneesh Kumar Yadav's areas of interest include Water and Wastewater treatment and Solid Waste Management.\",\n",
       "  'Can you list all the faculty members in the Faculty of Civil Engineering along with their email addresses?',\n",
       "  'Here are the faculty members in the Faculty of Civil Engineering with their email addresses:\\n\\n- **Dr. Ayush Mittal**: amittal@recabn. Ac. In\\n- **Mr. Avaneesh Kumar Yadav**: avaneesh@recabn. Ac. In\\n- **Mr. Amit Kumar Rai**: amitkrrai@recabn. Ac. In\\n- **Mr. Nitin Kumar Shukla**: nitin@recabn. Ac. In.'],\n",
       " ['What is the email address of Mr. Nitin Kumar Shukla?',\n",
       "  \"Mr. Nitin Kumar Shukla's email address is nitin@recabn. Ac. In.\"],\n",
       " ['Who heads the Training & Placement Cell at Rajkiya Engineering College (R. E. C.) Ambedkar Nagar?',\n",
       "  'The Training & Placement Cell is headed by Dr. Sanjay Agarwal, Assistant Professor in the Electrical Department.',\n",
       "  'What kind of support does theTPO provide for placements at REC Ambedkar Nagar?',\n",
       "  'TheTPO, Managed by an efficient team of office staff, Handles all aspects of placements at the college, Providing support to both students and recruiters. Who is currentTPO Traning Placement Officer?',\n",
       "  'The Training & Placement Cell is headed by Dr. Sanjay Agarwal, Assistant Professor in the Electrical Department.'],\n",
       " ['What are the key characteristics that recruiters frequently cite about REC Ambedkar Nagar graduates?',\n",
       "  'Recruiters praise our students for their quick learning ability, Versatility, Teamwork skills, Excellent analytical skills, And most importantly, Their positive attitude towards work.'],\n",
       " ['What are the goals of Rajkiya Engineering College (R. E. C.) Ambedkar Nagar in terms of student development?',\n",
       "  'The institute aims to produce professionally competent engineers by providing value-based and quality education, Ensuring students are adaptable to the changing demands of the world.'],\n",
       " ['What kind of facilities does REC Ambedkar Nagar provide for campus recruiters?',\n",
       "  'The college has excellent facilities for campus recruiters, And they are happy to make these facilities available to participating organizations.',\n",
       "  'What is the role of training and internship in the curriculum at REC Ambedkar Nagar? Training and internship are integral parts of the curriculum. Pre-final B. Tech students can participate in training during their sixth semester in June-July, Gaining practical knowledge of real-world applications.'],\n",
       " ['What is the long-term vision for REC Ambedkar Nagar?',\n",
       "  \"The institute's vision is to provide quality technical education, Act as a platform for scientific research, And develop human potential to its fullest. They are striving to restore REC's position as a top technological institute in Uttar Pradesh.\"],\n",
       " ['How many hostels are there in total for students?',\n",
       "  'There are a total of 8 hostels for students, But one is currently under construction.',\n",
       "  'What are the different types of rooms available for students?',\n",
       "  'Only Final Year (4rth Year) Year Students and some 3rd Year students of DDU Hostel Get single Room, And rest are three seaters including all girls also.',\n",
       "  'What kind of security measures are in place at the campus?',\n",
       "  'The campus has a security gate with staff controlling entry, Making it a secure environment.']]"
      ]
     },
     "execution_count": 7,
     "metadata": {},
     "output_type": "execute_result"
    }
   ],
   "source": [
    "file_path = \"process_data/structred_data/train_dialogues.pickle\"\n",
    "with open(file_path, 'rb') as file:\n",
    "    data = pickle.load(file)\n",
    "\n",
    "data"
   ]
  },
  {
   "cell_type": "code",
   "execution_count": 9,
   "metadata": {},
   "outputs": [
    {
     "data": {
      "text/plain": [
       "['Rajkiya Engineering College (R. E. C.) Ambedkar Nagar was established by Government of Uttar Pradesh under special component plan in year 2010, The college has started offering B. Tech Programme in three disciplines – Information Technology (IT), Electrical Engineering (EE) and Civil Engineering (CE) with intake of 60 seats in each branches from the session 2010-11.',\n",
       " 'Rajkiya Engineering College, Ambedkar Nagar is one of the best and most reputable government engineering colleges in the state of Uttar Pradesh. Rec Ambedkar Nagar has always been excelling both on the academic and the non-academic fronts. Rajkiya Engineering College, Ambedkar Nagar is an AICTE-approved government engineering college with a well-established library and labs. Every year a large number of students from the college clear the GATE exam and get placed into PSUs.',\n",
       " 'The work of college construction started in October 2010 with a budget of 6213. 81Lakh. The college was running in the campus of Kamla Nehru Institue of Technology, Sultanpur and has been shifted to its own campus at AmbedkarNagar in August 2012.',\n",
       " 'The college has started offering B. Tech. Course in three disciplines- Information Technology, Electrical Engineering and Civil Engineering with intake of 60 seats in each branch from session 2010-2011.',\n",
       " 'Rajkiya Engineering College (REC), Since inception in the year 2010, Has reached new echelons in all areas of functionality showing positive growth trend in academic discourse over the years. The motive has always been to attain the global level of excellence in scientific and technical education, Fostering research, Innovation, Leadership qualities and entrepreneurial attitude, Contributing to the advancement of the society and mankind.',\n",
       " 'We at REC consistently provide an academic and social environment that stimulates academic excellence imbibed with cross cultural adaptability, Flowering of soft skills and integration of human values & social concerns among students. In order to attain these multi facet objectives we have taken a number of steps aimed at developing the budding Engineers. This includes crafting of teaching learning modules in line with AKTU curriculum, Floating of significant number of value-added programs on advanced knowledge domains and facilitating infrastructural support for incubation & innovative entrepreneurship. All these activities are effectively promulgated by highly qualified and well experienced faculties with high degree of precision.',\n",
       " 'Rajkiya Engineering College is committed to focus on cutting edge technology, Innovations & creativity and hands on learning with an objective to convert the students from being job seekers to become job givers. In line with this philosophy, We act as a bridge between the students and various government organizations promoting entrepreneurial culture through their training programs, Easy accessibility and funding support from time to time.',\n",
       " 'I strongly believe that with the kind of impeccable system and support REC provides, We shall continue to create benchmarks in pursuit of achieving academic excellence and shall soon emerge as a dream destination for Engineering aspirants. \\\\nBest wishes!!! \\\\nDr. G. Nalankilli \\\\nDirector.',\n",
       " 'Department of information technology is the largest department of the Institute. It offers B. Tech. In Information technology. The Department is well equipped with high end computers, Latest software & IT infrastructure. All computing resources are interconnected with high speed internet. The campus wide Networking facility is also managed by the department. The Department has a well-qualified faculty and several well equipped laboratories catering to the needs of not only the IT but also students from other departments. The Department has annual intake of 60 in B. Tech. Information Technology.',\n",
       " 'Civil Engineering is a traditional branch of Engineering and was amongst the founding courses when the institution was started. This is the one of the best department of the college. The department has a well-qualified faculty and technical supporting staff. All the laboratories of the department are wellequipped with modern equipment. The Department has annual intake of 60 in B. Tech. Civil Engineering.',\n",
       " 'The Electrical Engineering Department is one of the best departments of the Institute. The field of Electrical Engineering is concerned with generation, Transmission, Distribution, Control and utilization of electrical energy. Electricity and its applications also play a vital role in improving living conditions of the people and powering many different industries. The Department is well equipped to train electrical students to advance their theoretical knowledge and sound practices of the profession. The department has a well-qualified faculty and technical supporting staff. All the laboratories of the department are well equipped with modern equipment. The Department has annual intake of 60 in B. Tech. Electrical Engineering.',\n",
       " 'Academic year consists of two semesters, Namely the Odd Semester and the Even Semester, Each having ordinarily, Duration of 90 working days. All academic programmes of the Institute are administered according to the academic calendar issued by Dr. A. P. J. Abdul Kalam Technical University.',\n",
       " 'The timings observed by the Institute for academic purposes are ordinarily from 9. 00 A.M. To 5. 00P.M. Any change in the timing is properly notified. No Notices are circulated in the class rooms. Students are advised to see the notice boards of their respective departments, Administrative block, Library, Hostels, Workshop etc regularly.',\n",
       " 'The Department of Information Technology was established in 2010 with an intake of 60 student. The department has highly qualified, Committed and well experienced faculty members with varied specializations. The faculties are involved in organizing and participating in several seminars, Conferences and workshops. They have also published research papers in various national and international journals, Presented papers in conferences in India. Over the years, The department has become a center of excellence, Providing in-depth technical knowledge and opportunities for innovation and research, With well-equipped computer facilities.',\n",
       " 'Information Technology Department is the first point of contact for the campus community by supporting telephone, Computing, Networking, And applications. It Department is dedicated to facilitate and enhance teaching, Learning, And administrative services and to increase the productivity and efficiency using information technology resources.',\n",
       " 'To be center of excellence in technical higher education, Research, And support services, Capable of making significant contribution to individual and societal empowerment.',\n",
       " 'To be centre of excellence in the information technology which will produce globally competent engineers with the moral values and technical skills for the betterment of the society.',\n",
       " 'The department of Electrical Engineering at Rajkiya Engineering College Ambedkar Nagar offers a vibrant environment for undergraduate education in Electrical Engineering Established in 2010. The Department of Electrical Engineering is actively engaged in teaching and research. With modern laboratories and excellent members of faculty.',\n",
       " 'The under graduate programme provides the students with a strong background in the broad areas of Electrical Engineering, Namely, Communication technology, Control technology, Electronics, And power & energy. A strong exposure to state-of-the-art technologies is further provided through elective courses that are carefully designed for the interested students.',\n",
       " 'Civil Engineering is the art of directing the sources of power in nature for the use and convenience of man, For improvement of quality of life. The theory and practice of civil engineering is basically applied in the construction of Buildings & Structures, Roads, Bridges, Aqueducts, Canals, River navigation ports, Docks and harbours.',\n",
       " 'At REC, Ambedkarnagar, B. Tech Courses in Civil Engineering is offered with intake capacity of 60. The goal of department is to produce high quality technical manpower needed by industry, R&D organizations, And academic institutions and above all to meet the engineering needs of the nation.',\n",
       " 'The Department also encourages its students to engage in extra-curricular and co-curricular activities, Essential for development, Nurturing of team spirit, Developing organizational skills and inculcating good moral values and positive work culture.',\n",
       " 'Department of Applied Sciences and Humanities is one of the indispensable departments of Rajkiya Engineering College(REC) Ambedkar Nagar. Department imparts excellent quality education in the area of Applied Science ( Mathematics, Physics, Chemistry, Environmental Science etc.) and Humanities ( Economics & Management, English etc.). The Department was established in 2010. Since then the department has been running to support the B. Tech Programme. The exponential growth of the department is itself a testimony of sincere efforts being put in by faculty members of the department.',\n",
       " 'The institute has full-fledged Training & Placement Cell headed by Dr. Sanjay Agarwal, Assistant Professor Electrical Department. The Training and Placement Officer (TPO) is run and managed by an efficient team of office staff and handles all aspects of placements at Rajkiya Engineering College (R. E. C.), Ambedkar Nagar.',\n",
       " 'Rajkiya Engineering College (R. E. C.), Ambedkar Nagar is a govt. Aided college of State Government, Affiliated to Uttar Pradesh Technical University. The Institute mission is to produce professionally competent engineers by providing value-based and quality education to students and to make them adaptable to changing demands and requirements of the world.',\n",
       " 'The most frequently cited accolades from these organizations regarding our students include their ability to learn quickly, Their versatility, Their performance as team players, Their excellent analytical skills, And most important the positive attitude that they bring to their jobs.',\n",
       " 'The institute offers campus placement for students graduating with Bachelor of Technology (B. Tech). Rajkiya Engineering College (R. E. C.), Ambedkar Nagar has good facilities for campus recruiters and we are pleased to make them available to the participating organizations. We welcome any suggestion from your organization that will help us realize our cherished goal of achieving the best match between the aspirations of the recruiting organizations and the abilities of our students.',\n",
       " 'Since the advent of this institution, Rec has vision to provide quality technical education and act as a rostrum for scientific research, And a mission to develop human potential to its greatest degree. In accordance with this vision.',\n",
       " 'Rec has maintained an exemplary record of academic contribution for achieving excellence in teaching, Research and governance. A sincere effort has now begun to restore the vantage position of REC as the top technological Institute in UP. The students of REC are a cherry picked group. They have been chosen through a process that makes REC one of the most privileged institutes to get an admission.',\n",
       " 'Training and Internship \\\\n Training/Internship is part of the study curriculum of Rajkiya Engineering College (R. E. C.), Ambedkar Nagar. This training/internship can be offer to the pre final students of B. Tech. In the months of June-July in their sixth semester. These trainings help the students to gain practical knowledge of how stuffs work in the real world.',\n",
       " 'Apart from the academic, Co-curricular and extracurricular activities, Rec Ambedkar Nagar students are also take part in various fest coordinated and conducted by themselves under the able guidance of institute and faculty.',\n",
       " 'Rajkiya Engineering College provides “8” hostels for students, 2 hostels for girls and 5 hostels for boys. Rest 1 hostel is under construction and will be available for student in near future. There are single seater rooms, Double seater rooms as well as triple seater rooms available for students. The entire campus is quite safe and secure. Entry to the campus is controlled by security staff at security gate itself.',\n",
       " \"Ragging is strictly prohibited as per the relevant directives of the Hon'ble Supreme Court, U. P. Government rules/orders and the directives of Uttar Pradesh Technical University Lucknow. Any Student found involved in ragging shall be suitably punished including FIR with the Police and expulsion from the Institute.\",\n",
       " \"Guests are not allowed to stay in the hostel without prior permission of the warden. If this is not possible due to some unforeseen reasons, The arrival time of guest must be recorded in the visitor's register placed in the hostel office and the Warden should be informed the next morning explaining reasons for the delay in obtaining permission.\",\n",
       " 'Rec Ambedkar Nagar is one of the best and reputable Government Engineering colleges of Uttar Pradesh. The College is a Government Institution which comes under the Uttar Pradesh Technical University. The Institute has AICTE and UGC approval. It was established by the Uttar Pradesh State Government in the year of 2010. Within the time period of less than six years, It has almost completed all its buildings and the many more hostels, Playing grounds, Gymnasium, Auditorium, Swimming pool etc. Are under the construction. The college has a huge central library which includes thousands of books, Hundreds of research papers, Magazines, Newspapers etc. The central library is fully air-conditioned. Students can go there at any time to enhance their knowledge. This is also a cyber library where hundreds of computer systems are placed. Students can find anything over there from all over the world to gather the knowledge. The college has many of Computer Labs for the Computer Science and Information Technology students where more than 500 computers are available for the students. The college has a huge Workshop for the Civil Engineering and Mechanical Engineering students. Bigger Labs for the Electrical Engineering and Electronics and Communication Engineering students are also there. Projectors are enabled in each and every classroom to make the classrooms much smarter and to make the Infrastructure more Hi-tech. There are many of Seminar Halls where Seminars are held at every Saturday and Sunday by the experts from the top most Institutes of India for the students of every course. Experts are called to make the students aware of the latest technologies around the world like Nano Technology, Robotics, Enhanced and latest Power Systems, Renewable Energy, Eco-friendly development, Alternative sources of Energies, Latest Programming in C, C++, Html, Java, Php,. Net etc. Latest Android Technologies, Operating Systems and much more. Senior most students of the college take a common test on Basic Reasoning and General Aptitude on every Saturday for all the students and specific tests on the particular courses are also taken by the 4th year students of the respective branches to make the students active for the forthcoming Competitive Examination like GATE, Cat etc. Wi-Fi facility for 24 hours is available for the entire college. There is a huge R. O.(Reverse Osmosis) water plant in the college to provide the purest drinking water to each and every corner of the college. There is 24 hours Water and Electricity supply over entire college. There is a large gymnasium in the college to make the students healthy and fit where most of the students come in the morning to make themselves fit and active. A huge Sports playground is also there in the college which makes the students play different sports at the same time. Students come at evening and play different - different games like Football, Volleyball, Handball, Basketball, Bat-Minton, Cricket, Rugby etc. Separate sections are there for Athletics and Indore Games. A swimming pool is there in the college which makes students fresh and enthusiastic after an adequate swimming in it. There is Hi-tech mess in every hostel taking care of the hygiene and quality food. There are much more good things about the college which can not be described by just only words. So overall this college is a very good choice for the students who are seeking admission in the Engineering Course.',\n",
       " 'Rajkiya Engineering College, Ambedkar Nagar was established in year 2010 and is located in Ambedkar Nagar, Uttar Pradesh. It offers courses at UG and Doctorate levels with highly experienced faculty in Full Time mode. Approved by the AICTE, The institute offers multiple courses such as B. E. / B. Tech and Ph.D. Courses. Furthermore, It offers several specialisations in the fields of Science and Engineering. Rajkiya Engineering College, Ambedkar Nagar offers these courses within the range of INR 1, 78, 300-1, 96, 500 with the intent to provide education at highly affordable fees. The institute offers 184 seats, Encouraging more candidates to gain knowledge and enhance their skills.',\n",
       " 'Rajkiya Engineering College, Ambedkar Nagar Placements, Ug Degree (4 year) : In year 2017-18, For 4 year UG Degree, A total of 187 students were admitted at Rajkiya Engineering College, Ambedkar Nagar and 189 completed their graduation in 2020-21. Out of 189 students 13 were placed with median salary of INR 336000 and 9 students opted for higher studies. A total of 177 students were admitted in year 2018-19 for 4 year UG degree at Rajkiya Engineering College, Ambedkar Nagarand 191 completed their graduation in 2021-22. Out of 191 students 82 were placed with median salary of INR 1000000 and 12 students opted for higher studies.',\n",
       " 'If we talk about the placements there is, We can say average placement record. On an average it goes to INR 4 lacs per annum of placement. The highest package in 2023 is INR 7. 5 LPA inTCS digital. Most of the students get placed on INR 3. 5 to 4 LPA on an average, No doubt if you work hard you will get placed.',\n",
       " 'The infrastructure of the academic building is good. In academic block there is a good facility of labs as Machine learning lab, Autocat lab and also different labs are there for civil department also. 2. Second, If we talk about campus there is a good environment.',\n",
       " 'Faculty is awesome maximum of them hold Ph.D. Degrees and there teaching method is also very amazing. The syllabus is described by AKTU University. The semester exams are not really very tough, The passing criteria is above 33 percent. The written exam is of 100 marks and 50 marks for internals.',\n",
       " 'Placement is very hard for students in our college; the percentage rate of getting placed is almost about 30% in the IT branch, Whereas in other branches it is quite low or almost nothing, Honestly. (3. 4 LPA to 9 LPA). Companies like Wipro,TCS, Etc., Visit, But none get internships here; you have to find one yourself from anywhere.',\n",
       " 'Not a very large campus, But being a state government college, It is the best. Wi-Fi is available; labs are not as good as top colleges, But sufficient labs are available. Mess facilities are available in every hostel, And there are sports and other councils where you can explore. Medical facility: Around 500m near to Government City Hospital.',\n",
       " 'In our Electrical Engineering branch, The faculty are very experienced; most have done their PhDs from top colleges in India. Faculty will always help you with your projects if you are dedicated. Lecture and attendance: As this college is affiliated with AKTU University, 75% attendance is mandatory. Semester examination: You have to score at least 40 percent overall in a single subject; 30 percent marks will have to be scored in external examinations in each subject.',\n",
       " 'Our college provides very fewer placement opportunities for our course. Placements are average for information technology and electrical engineering courses. The highest salary package offered in 2022 was 8. 5 LPA. The placement rate is less because of covid.']"
      ]
     },
     "execution_count": 9,
     "metadata": {},
     "output_type": "execute_result"
    }
   ],
   "source": [
    "file_path1 = \"process_data/corpus_data/train_corpus.pickle\"\n",
    "with open(file_path1, 'rb') as file1:\n",
    "    data1 = pickle.load(file1)\n",
    "\n",
    "data1"
   ]
  },
  {
   "cell_type": "code",
   "execution_count": null,
   "metadata": {},
   "outputs": [],
   "source": []
  }
 ],
 "metadata": {
  "kernelspec": {
   "display_name": "venv",
   "language": "python",
   "name": "python3"
  },
  "language_info": {
   "codemirror_mode": {
    "name": "ipython",
    "version": 3
   },
   "file_extension": ".py",
   "mimetype": "text/x-python",
   "name": "python",
   "nbconvert_exporter": "python",
   "pygments_lexer": "ipython3",
   "version": "3.8.10"
  }
 },
 "nbformat": 4,
 "nbformat_minor": 2
}
