{
 "cells": [
  {
   "cell_type": "code",
   "execution_count": 1,
   "metadata": {},
   "outputs": [
    {
     "name": "stderr",
     "output_type": "stream",
     "text": [
      "/home/rahulbharti/Preojects/college-chatbot-gpt2/venv/lib/python3.8/site-packages/tqdm/auto.py:21: TqdmWarning: IProgress not found. Please update jupyter and ipywidgets. See https://ipywidgets.readthedocs.io/en/stable/user_install.html\n",
      "  from .autonotebook import tqdm as notebook_tqdm\n",
      "[nltk_data] Downloading package wordnet to\n",
      "[nltk_data]     /home/rahulbharti/Preojects/college-chatbot-\n",
      "[nltk_data]     gpt2/venv/nltk_data...\n",
      "[nltk_data]   Package wordnet is already up-to-date!\n",
      "[nltk_data] Downloading package omw-1.4 to\n",
      "[nltk_data]     /home/rahulbharti/Preojects/college-chatbot-\n",
      "[nltk_data]     gpt2/venv/nltk_data...\n",
      "[nltk_data]   Package omw-1.4 is already up-to-date!\n",
      "[nltk_data] Downloading package punkt to\n",
      "[nltk_data]     /home/rahulbharti/Preojects/college-chatbot-\n",
      "[nltk_data]     gpt2/venv/nltk_data...\n",
      "[nltk_data]   Package punkt is already up-to-date!\n",
      "[nltk_data] Downloading package punkt_tab to\n",
      "[nltk_data]     /home/rahulbharti/Preojects/college-chatbot-\n",
      "[nltk_data]     gpt2/venv/nltk_data...\n",
      "[nltk_data]   Package punkt_tab is already up-to-date!\n"
     ]
    },
    {
     "name": "stdout",
     "output_type": "stream",
     "text": [
      "{'structure_dataset_dir': './process_data/structred_data', 'corpus_dataset_dir': './process_data/corpus_data', 'train_frac': 0.85, 'model_name': 'gpt2', 'seed': 8459, 'lr': 2e-05, 'warmup_ratio': 0.1, 'batch_size': 1, 'num_epochs': 10, 'max_len': 100, 'max_history': 5, 'models_dir': './models', 'stop_command': 'bye', 'top_p': 0.9, 'top_k': 50, 'temperature': 0.9, 'mode': 'train', 'checkpoint': 'None', 'model_dir': './models'}\n",
      "----------------------------------------------------------------------------------------------------\n",
      "Using device: cpu\n",
      "----------------------------------------------------------------------------------------------------\n"
     ]
    }
   ],
   "source": [
    "import yaml\n",
    "import torch\n",
    "import nltk\n",
    "from glob import glob\n",
    "from transformers import GPT2Tokenizer, GPT2LMHeadModel\n",
    "\n",
    "from chatbot_files.data import Dialogues\n",
    "from chatbot_files.utils import set_seed\n",
    "\n",
    "nltk.download('wordnet')\n",
    "nltk.download('omw-1.4')\n",
    "nltk.download('punkt')\n",
    "nltk.download('punkt_tab')\n",
    "\n",
    "### Make Sure the seed is imported\n",
    "# from utils import set_seed\n",
    "\n",
    "args = yaml.safe_load(open('config.yml'))\n",
    "set_seed(args['seed']) \n",
    "print(args)\n",
    "\n",
    "\n",
    "def load_tokenizer(args):\n",
    "    tokenizer = GPT2Tokenizer.from_pretrained(args['model_name'])\n",
    "    special_tokens = ['<speaker1>', '<speaker2>']\n",
    "    tokenizer.add_special_tokens({\n",
    "        'bos_token': '<bos>',\n",
    "        'additional_special_tokens': special_tokens\n",
    "    })\n",
    "\n",
    "    # add new token ids to args\n",
    "    special_tokens += ['<bos>', '<eos>']\n",
    "    sp1_id, sp2_id, bos_id, eos_id = tokenizer.encode(special_tokens)\n",
    "    args['sp1_id'] = sp1_id\n",
    "    args['sp2_id'] = sp2_id\n",
    "    args['bos_id'] = bos_id\n",
    "    args['eos_id'] = eos_id\n",
    "\n",
    "    return tokenizer\n",
    "\n",
    "def load_model(args, tokenizer, device):\n",
    "    model = GPT2LMHeadModel.from_pretrained(args[\"model_name\"]).to(device)\n",
    "    model.resize_token_embeddings(len(tokenizer))\n",
    "    return model\n",
    "\n",
    "device = torch.device('cuda' if torch.cuda.is_available() else 'cpu')\n",
    "args['device'] = device\n",
    "\n",
    "print(\"--\"*50)\n",
    "print(f'Using device: {device}')\n",
    "print(\"--\"*50)\n",
    "\n",
    "tokenizer = load_tokenizer(args)\n",
    "model = load_model(args, tokenizer, device)"
   ]
  },
  {
   "cell_type": "code",
   "execution_count": null,
   "metadata": {},
   "outputs": [],
   "source": []
  },
  {
   "cell_type": "code",
   "execution_count": null,
   "metadata": {},
   "outputs": [],
   "source": []
  }
 ],
 "metadata": {
  "kernelspec": {
   "display_name": "venv",
   "language": "python",
   "name": "python3"
  },
  "language_info": {
   "codemirror_mode": {
    "name": "ipython",
    "version": 3
   },
   "file_extension": ".py",
   "mimetype": "text/x-python",
   "name": "python",
   "nbconvert_exporter": "python",
   "pygments_lexer": "ipython3",
   "version": "3.8.10"
  }
 },
 "nbformat": 4,
 "nbformat_minor": 2
}
