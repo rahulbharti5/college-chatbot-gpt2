{
 "cells": [
  {
   "cell_type": "code",
   "execution_count": 3,
   "metadata": {},
   "outputs": [],
   "source": [
    "from data import DialoguesDataset\n",
    "import yaml"
   ]
  },
  {
   "cell_type": "code",
   "execution_count": 2,
   "metadata": {},
   "outputs": [],
   "source": [
    "import pickle\n",
    "\n",
    "data = pickle.load(open('../dataset/train_dialogues.pickle', 'rb'))"
   ]
  },
  {
   "cell_type": "code",
   "execution_count": 4,
   "metadata": {},
   "outputs": [
    {
     "data": {
      "text/plain": [
       "[['Say, Jim, How about going for a few beers after dinner?',\n",
       "  'You know that is tempting but is really not good for our fitness.',\n",
       "  'What do you mean? It will help us to relax.',\n",
       "  \"Do you really think so? I don't. It will just make us fat and act silly. Remember last time?\",\n",
       "  \"I guess you are right. But what shall we do? I don't feel like sitting at home.\",\n",
       "  'I suggest a walk over to the gym where we can play singsong and meet some of our friends.',\n",
       "  \"That's a good idea. I hear Mary and Sally often go there to play pingpong. Perhaps we can make a foursome with them.\",\n",
       "  'Sounds great to me! If they are willing, We could ask them to go dancing with us. That is excellent exercise and fun, Too.',\n",
       "  \"Good. Let's go now.\",\n",
       "  'All right.'],\n",
       " ['Can you do push-ups?',\n",
       "  \"Of course I can. It's a piece of cake! Believe it or not, I can do 30 push-ups a minute.\",\n",
       "  \"Really? I think that's impossible!\",\n",
       "  'You mean 30 push-ups?',\n",
       "  'Yeah!',\n",
       "  \"It's easy. If you do exercise everyday, You can make it, Too.\"]]"
      ]
     },
     "execution_count": 4,
     "metadata": {},
     "output_type": "execute_result"
    }
   ],
   "source": [
    "data[0:2]"
   ]
  },
  {
   "cell_type": "code",
   "execution_count": 4,
   "metadata": {},
   "outputs": [],
   "source": [
    "import yaml\n",
    "args = yaml.safe_load(open('config.yml'))\n",
    "from transformers import GPT2Tokenizer\n",
    "\n",
    "def load_tokenizer(args):\n",
    "    tokenizer = GPT2Tokenizer.from_pretrained(args['model_name'])\n",
    "    special_tokens = ['<speaker1>', '<speaker2>']\n",
    "    tokenizer.add_special_tokens({\n",
    "        'bos_token': '<bos>',\n",
    "        'additional_special_tokens': special_tokens\n",
    "    })\n",
    "\n",
    "    # add new token ids to args\n",
    "    special_tokens += ['<bos>', '<eos>']\n",
    "    sp1_id, sp2_id, bos_id, eos_id = tokenizer.encode(special_tokens)\n",
    "    args['sp1_id'] = sp1_id\n",
    "    args['sp2_id'] = sp2_id\n",
    "    args['bos_id'] = bos_id\n",
    "    args['eos_id'] = eos_id\n",
    "\n",
    "    return tokenizer"
   ]
  },
  {
   "cell_type": "code",
   "execution_count": 5,
   "metadata": {},
   "outputs": [
    {
     "name": "stderr",
     "output_type": "stream",
     "text": [
      "c:\\Users\\rk225\\Documents\\DeepLearning\\.env\\Lib\\site-packages\\transformers\\tokenization_utils_base.py:1601: FutureWarning: `clean_up_tokenization_spaces` was not set. It will be set to `True` by default. This behavior will be depracted in transformers v4.45, and will be then set to `False` by default. For more details check this issue: https://github.com/huggingface/transformers/issues/31884\n",
      "  warnings.warn(\n"
     ]
    }
   ],
   "source": [
    "tokenizer = load_tokenizer(args)"
   ]
  },
  {
   "cell_type": "code",
   "execution_count": 1,
   "metadata": {},
   "outputs": [],
   "source": [
    "from processing import Processing"
   ]
  },
  {
   "cell_type": "code",
   "execution_count": 8,
   "metadata": {},
   "outputs": [],
   "source": [
    "process = Processing(tokenizer,0.85)"
   ]
  },
  {
   "cell_type": "code",
   "execution_count": 9,
   "metadata": {},
   "outputs": [
    {
     "data": {
      "application/vnd.jupyter.widget-view+json": {
       "model_id": "310eb556374a41308afb01dd0acecfed",
       "version_major": 2,
       "version_minor": 0
      },
      "text/plain": [
       "  0%|          | 0/32 [00:00<?, ?it/s]"
      ]
     },
     "metadata": {},
     "output_type": "display_data"
    }
   ],
   "source": [
    "train,test = process._load_college()"
   ]
  },
  {
   "cell_type": "code",
   "execution_count": 10,
   "metadata": {},
   "outputs": [
    {
     "data": {
      "text/plain": [
       "[['When was Rajkiya Engineering College (R. E. C.) Ambedkar Nagar established?',\n",
       "  'Rajkiya Engineering College (R. E. C.) Ambedkar Nagar was established in 2010 by the Government of Uttar Pradesh under a special component plan.',\n",
       "  'What were the initial branches offered by the college?',\n",
       "  'The college initially offered B. Tech. Programs in three branches: Information Technology (IT), Electrical Engineering (EE), And Civil Engineering (CE), With an intake of 60 students in each branch.',\n",
       "  'How long did it take for the college to shift to its own campus?',\n",
       "  'The college initially operated from the campus of Kamla Nehru Institute of Technology (K. N. I.T) in Sultanpur. It shifted to its own campus in Ambedkar Nagar in August 2012, About two years after its establishment.'],\n",
       " ['What is the budget allocated for the construction of the college?',\n",
       "  'The college construction started in October 2010 with an allocated budget of 6213. 81 Lakh.',\n",
       "  'Who served as the Principal of Rajkiya Engineering College (R. E. C.) Ambedkar Nagar before January 2015?',\n",
       "  'The Director of K. N. I.T Sultanpur served as the Principal of Rajkiya Engineering College (R. E. C.) Ambedkar Nagar until January 14, 2015.']]"
      ]
     },
     "execution_count": 10,
     "metadata": {},
     "output_type": "execute_result"
    }
   ],
   "source": [
    "train[0:2]"
   ]
  },
  {
   "cell_type": "code",
   "execution_count": 11,
   "metadata": {},
   "outputs": [
    {
     "data": {
      "application/vnd.jupyter.widget-view+json": {
       "model_id": "a624eeddd7ed46ff8977ca4df75c75cb",
       "version_major": 2,
       "version_minor": 0
      },
      "text/plain": [
       "  0%|          | 0/13118 [00:00<?, ?it/s]"
      ]
     },
     "metadata": {},
     "output_type": "display_data"
    }
   ],
   "source": [
    "train,test = process._load_daily()"
   ]
  },
  {
   "cell_type": "code",
   "execution_count": 14,
   "metadata": {},
   "outputs": [
    {
     "data": {
      "text/plain": [
       "(11150, 1968)"
      ]
     },
     "execution_count": 14,
     "metadata": {},
     "output_type": "execute_result"
    }
   ],
   "source": [
    "len(train),len(test)"
   ]
  },
  {
   "cell_type": "code",
   "execution_count": 17,
   "metadata": {},
   "outputs": [
    {
     "data": {
      "text/plain": [
       "'usted'"
      ]
     },
     "execution_count": 17,
     "metadata": {},
     "output_type": "execute_result"
    }
   ],
   "source": [
    "tokenizer.decode([8459])"
   ]
  }
 ],
 "metadata": {
  "kernelspec": {
   "display_name": ".env",
   "language": "python",
   "name": "python3"
  },
  "language_info": {
   "codemirror_mode": {
    "name": "ipython",
    "version": 3
   },
   "file_extension": ".py",
   "mimetype": "text/x-python",
   "name": "python",
   "nbconvert_exporter": "python",
   "pygments_lexer": "ipython3",
   "version": "3.12.3"
  }
 },
 "nbformat": 4,
 "nbformat_minor": 2
}
