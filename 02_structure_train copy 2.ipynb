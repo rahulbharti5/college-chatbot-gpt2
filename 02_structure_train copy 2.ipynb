{
 "cells": [
  {
   "cell_type": "code",
   "execution_count": 1,
   "metadata": {},
   "outputs": [],
   "source": [
    "# #Run this code if you are in google colab\n",
    "# !git clone https://github.com/rahulbharti5/college-chatbot-gpt2 .\n",
    "# !pip install datasets"
   ]
  },
  {
   "cell_type": "markdown",
   "metadata": {},
   "source": [
    "### 1. Imporinting All Library"
   ]
  },
  {
   "cell_type": "code",
   "execution_count": 2,
   "metadata": {},
   "outputs": [
    {
     "name": "stderr",
     "output_type": "stream",
     "text": [
      "/home/rahulbharti/Preojects/college-chatbot-gpt2/venv/lib/python3.8/site-packages/tqdm/auto.py:21: TqdmWarning: IProgress not found. Please update jupyter and ipywidgets. See https://ipywidgets.readthedocs.io/en/stable/user_install.html\n",
      "  from .autonotebook import tqdm as notebook_tqdm\n"
     ]
    }
   ],
   "source": [
    "import yaml\n",
    "import torch\n",
    "import nltk\n",
    "from glob import glob\n",
    "from transformers import GPT2Tokenizer, GPT2LMHeadModel\n",
    "\n",
    "from chatbot_files.data import Dialogues\n",
    "from chatbot_files.utils import set_seed"
   ]
  },
  {
   "cell_type": "markdown",
   "metadata": {},
   "source": [
    "### 2. Downloading the NLTK Libraries"
   ]
  },
  {
   "cell_type": "code",
   "execution_count": 3,
   "metadata": {},
   "outputs": [
    {
     "name": "stderr",
     "output_type": "stream",
     "text": [
      "[nltk_data] Downloading package wordnet to\n",
      "[nltk_data]     /home/rahulbharti/Preojects/college-chatbot-\n",
      "[nltk_data]     gpt2/venv/nltk_data...\n",
      "[nltk_data]   Package wordnet is already up-to-date!\n",
      "[nltk_data] Downloading package omw-1.4 to\n",
      "[nltk_data]     /home/rahulbharti/Preojects/college-chatbot-\n",
      "[nltk_data]     gpt2/venv/nltk_data...\n"
     ]
    },
    {
     "name": "stderr",
     "output_type": "stream",
     "text": [
      "[nltk_data]   Package omw-1.4 is already up-to-date!\n",
      "[nltk_data] Downloading package punkt to\n",
      "[nltk_data]     /home/rahulbharti/Preojects/college-chatbot-\n",
      "[nltk_data]     gpt2/venv/nltk_data...\n",
      "[nltk_data]   Package punkt is already up-to-date!\n",
      "[nltk_data] Downloading package punkt_tab to\n",
      "[nltk_data]     /home/rahulbharti/Preojects/college-chatbot-\n",
      "[nltk_data]     gpt2/venv/nltk_data...\n",
      "[nltk_data]   Package punkt_tab is already up-to-date!\n"
     ]
    },
    {
     "data": {
      "text/plain": [
       "True"
      ]
     },
     "execution_count": 3,
     "metadata": {},
     "output_type": "execute_result"
    }
   ],
   "source": [
    "nltk.download('wordnet')\n",
    "nltk.download('omw-1.4')\n",
    "nltk.download('punkt')\n",
    "nltk.download('punkt_tab')"
   ]
  },
  {
   "cell_type": "markdown",
   "metadata": {},
   "source": [
    "### 3. Opening The Model Configuration\n",
    "and Setting Seeds Values"
   ]
  },
  {
   "cell_type": "code",
   "execution_count": 4,
   "metadata": {},
   "outputs": [
    {
     "data": {
      "text/plain": [
       "{'structure_dataset_dir': './process_data/structred_data',\n",
       " 'corpus_dataset_dir': './process_data/corpus_data',\n",
       " 'train_frac': 0.85,\n",
       " 'model_name': 'gpt2',\n",
       " 'seed': 8459,\n",
       " 'lr': 2e-05,\n",
       " 'warmup_ratio': 0.1,\n",
       " 'batch_size': 1,\n",
       " 'num_epochs': 10,\n",
       " 'max_len': 100,\n",
       " 'max_history': 5,\n",
       " 'models_dir': './models',\n",
       " 'stop_command': 'bye',\n",
       " 'top_p': 0.9,\n",
       " 'top_k': 50,\n",
       " 'temperature': 0.9,\n",
       " 'mode': 'train',\n",
       " 'checkpoint': 'None',\n",
       " 'model_dir': './models'}"
      ]
     },
     "execution_count": 4,
     "metadata": {},
     "output_type": "execute_result"
    }
   ],
   "source": [
    "### Make Sure the seed is imported\n",
    "# from utils import set_seed\n",
    "\n",
    "args = yaml.safe_load(open('config.yml'))\n",
    "set_seed(args['seed']) \n",
    "args"
   ]
  },
  {
   "cell_type": "markdown",
   "metadata": {},
   "source": [
    "### 4. Opening Loading the Model With GPU"
   ]
  },
  {
   "cell_type": "markdown",
   "metadata": {},
   "source": [
    "#### 4.1 Load Tokenizer"
   ]
  },
  {
   "cell_type": "code",
   "execution_count": 5,
   "metadata": {},
   "outputs": [],
   "source": [
    "def load_tokenizer(args):\n",
    "    tokenizer = GPT2Tokenizer.from_pretrained(args['model_name'])\n",
    "    special_tokens = ['<speaker1>', '<speaker2>']\n",
    "    tokenizer.add_special_tokens({\n",
    "        'bos_token': '<bos>',\n",
    "        'additional_special_tokens': special_tokens\n",
    "    })\n",
    "\n",
    "    # add new token ids to args\n",
    "    special_tokens += ['<bos>', '<eos>']\n",
    "    sp1_id, sp2_id, bos_id, eos_id = tokenizer.encode(special_tokens)\n",
    "    args['sp1_id'] = sp1_id\n",
    "    args['sp2_id'] = sp2_id\n",
    "    args['bos_id'] = bos_id\n",
    "    args['eos_id'] = eos_id\n",
    "\n",
    "    return tokenizer"
   ]
  },
  {
   "cell_type": "markdown",
   "metadata": {},
   "source": [
    "#### 4.2 Load Model "
   ]
  },
  {
   "cell_type": "code",
   "execution_count": 6,
   "metadata": {},
   "outputs": [],
   "source": [
    "def load_model(args, tokenizer, device):\n",
    "    model = GPT2LMHeadModel.from_pretrained(args[\"model_name\"]).to(device)\n",
    "    model.resize_token_embeddings(len(tokenizer))\n",
    "    return model"
   ]
  },
  {
   "cell_type": "markdown",
   "metadata": {},
   "source": [
    "#### 4.3 Loding Model and Tokenizeer"
   ]
  },
  {
   "cell_type": "code",
   "execution_count": 7,
   "metadata": {},
   "outputs": [
    {
     "name": "stdout",
     "output_type": "stream",
     "text": [
      "----------------------------------------------------------------------------------------------------\n",
      "Using device: cpu\n",
      "----------------------------------------------------------------------------------------------------\n"
     ]
    }
   ],
   "source": [
    "device = torch.device('cuda' if torch.cuda.is_available() else 'cpu')\n",
    "args['device'] = device\n",
    "\n",
    "print(\"--\"*50)\n",
    "print(f'Using device: {device}')\n",
    "print(\"--\"*50)\n",
    "\n",
    "tokenizer = load_tokenizer(args)\n",
    "model = load_model(args, tokenizer, device)"
   ]
  },
  {
   "cell_type": "code",
   "execution_count": 8,
   "metadata": {},
   "outputs": [],
   "source": [
    "from chatbot_files.data import CorpusDataSet\n",
    "args['max_length'] = args['max_len']\n",
    "corapus_train = CorpusDataSet(\"train\",args)"
   ]
  },
  {
   "cell_type": "code",
   "execution_count": 9,
   "metadata": {},
   "outputs": [],
   "source": [
    "from chatbot_files.utils import PadCollateCorpus\n",
    "\n",
    "pad = PadCollateCorpus(args)\n",
    "\n",
    "from torch.utils.data import DataLoader\n",
    "dataloader1 =    DataLoader(corapus_train,\n",
    "                            collate_fn=pad,\n",
    "                            shuffle=True,\n",
    "                            batch_size=args['batch_size'],\n",
    "                            num_workers=1,\n",
    "                            pin_memory=True)"
   ]
  },
  {
   "cell_type": "code",
   "execution_count": 10,
   "metadata": {},
   "outputs": [
    {
     "name": "stderr",
     "output_type": "stream",
     "text": [
      "  0%|          | 0/58 [00:00<?, ?it/s]"
     ]
    },
    {
     "name": "stdout",
     "output_type": "stream",
     "text": [
      "2\n"
     ]
    },
    {
     "name": "stderr",
     "output_type": "stream",
     "text": [
      "\n"
     ]
    }
   ],
   "source": [
    "from tqdm.auto import tqdm\n",
    "for i, batch in enumerate(tqdm(dataloader1)):\n",
    "    print(len(batch))\n",
    "    break"
   ]
  },
  {
   "cell_type": "code",
   "execution_count": 11,
   "metadata": {},
   "outputs": [
    {
     "name": "stdout",
     "output_type": "stream",
     "text": [
      "Loading the optimizer...\n"
     ]
    },
    {
     "name": "stdout",
     "output_type": "stream",
     "text": [
      "Loading train & valid data...\n",
      "Can't find the specified checkpoint\n"
     ]
    }
   ],
   "source": [
    "from chatbot_files.train import Corpus_Trainer\n",
    "trainer = Corpus_Trainer(model, args)\n",
    "# trainer.train()"
   ]
  }
 ],
 "metadata": {
  "kernelspec": {
   "display_name": "venv",
   "language": "python",
   "name": "python3"
  },
  "language_info": {
   "codemirror_mode": {
    "name": "ipython",
    "version": 3
   },
   "file_extension": ".py",
   "mimetype": "text/x-python",
   "name": "python",
   "nbconvert_exporter": "python",
   "pygments_lexer": "ipython3",
   "version": "3.8.10"
  }
 },
 "nbformat": 4,
 "nbformat_minor": 2
}
